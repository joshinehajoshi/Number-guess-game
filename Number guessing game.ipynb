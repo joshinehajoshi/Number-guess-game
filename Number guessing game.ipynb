{
 "cells": [
  {
   "cell_type": "code",
   "execution_count": null,
   "metadata": {},
   "outputs": [
    {
     "name": "stdout",
     "output_type": "stream",
     "text": [
      "Enter number between 1 to 10\n"
     ]
    }
   ],
   "source": [
    "import random \n",
    "a = random.randint(0,10)\n",
    "print(\"Enter number between 1 to 10\")\n",
    "c = 0\n",
    "while True:\n",
    "    b = int(input())\n",
    "    if a>b:\n",
    "        print(\"Too low\", c)\n",
    "    elif a<b:\n",
    "        print(\"Too high\",c)\n",
    "    else: \n",
    "        print(\"You won\",c)\n",
    "    c+=1\n",
    "        "
   ]
  },
  {
   "cell_type": "code",
   "execution_count": 1,
   "metadata": {},
   "outputs": [
    {
     "name": "stdout",
     "output_type": "stream",
     "text": [
      "1\n",
      "Enter your choice: scissor\n",
      "Tie 0\n"
     ]
    }
   ],
   "source": [
    "import random\n",
    "a = random.randint(0,)\n",
    "if a==0:\n",
    "    a == \"Stone\"\n",
    "elif a==1:\n",
    "    a == \"Paper\"\n",
    "else:\n",
    "    a == \"Scissor\"\n",
    "c = 0\n",
    "print(a)\n",
    "    \n",
    "while True:\n",
    "    b = input(\"Enter your choice: \")\n",
    "    if a == \"Stone\":\n",
    "        if b == \"Stone\":\n",
    "            print(\"Tie\",c)\n",
    "            break\n",
    "        elif b == \"Paper\":\n",
    "            print(\"You won\")\n",
    "            break\n",
    "        else: \n",
    "            print(\"You lose\",c)\n",
    "    elif a == \"Scissor\":\n",
    "        if b == \"Stone\":\n",
    "            print(\"You won\")\n",
    "            break\n",
    "        elif b == \"Paper\":\n",
    "            print(\"You lose\",c)\n",
    "        else: \n",
    "            print(\"Tie\",c)\n",
    "            break\n",
    "    else:\n",
    "        if b == \"Stone\":\n",
    "            print(\"You won\")\n",
    "            break\n",
    "        elif b == \"Paper\":\n",
    "            print(\"You lose\",c)\n",
    "        else: \n",
    "            print(\"Tie\",c)\n",
    "            break\n",
    "    c = c+1\n",
    "        "
   ]
  },
  {
   "cell_type": "code",
   "execution_count": null,
   "metadata": {},
   "outputs": [],
   "source": []
  }
 ],
 "metadata": {
  "kernelspec": {
   "display_name": "Python 3",
   "language": "python",
   "name": "python3"
  },
  "language_info": {
   "codemirror_mode": {
    "name": "ipython",
    "version": 3
   },
   "file_extension": ".py",
   "mimetype": "text/x-python",
   "name": "python",
   "nbconvert_exporter": "python",
   "pygments_lexer": "ipython3",
   "version": "3.7.4"
  }
 },
 "nbformat": 4,
 "nbformat_minor": 2
}
